{
 "cells": [
  {
   "cell_type": "markdown",
   "metadata": {},
   "source": [
    "# Carrier Performance Analysis\n",
    "\n",
    "This notebook analyzes carrier performance metrics to identify the most cost-effective and reliable carriers."
   ]
  },
  {
   "cell_type": "code",
   "execution_count": null,
   "metadata": {},
   "outputs": [],
   "source": [
    "import pandas as pd\n",
    "import matplotlib.pyplot as plt\n",
    "\n",
    "# Load carrier metrics data\n",
    "df = pd.read_csv('carrier_metrics.csv')\n",
    "df.head()"
   ]
  },
  {
   "cell_type": "code",
   "execution_count": null,
   "metadata": {},
   "outputs": [],
   "source": [
    "# Plot Cost per Shipment vs On-Time Rate\n",
    "plt.scatter(df['Cost_per_Shipment'], df['On_Time_Rate'])\n",
    "plt.xlabel('Cost per Shipment')\n",
    "plt.ylabel('On-Time Delivery Rate (%)')\n",
    "plt.title('Carrier Cost vs On-Time Rate')\n",
    "plt.show()"
   ]
  }
 ],
 "metadata": {
  "kernelspec": {
   "display_name": "Python 3",
   "language": "python",
   "name": "python3"
  },
  "language_info": {
   "name": "python"
  }
 },
 "nbformat": 4,
 "nbformat_minor": 2
}
